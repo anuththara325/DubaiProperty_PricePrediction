{
 "cells": [
  {
   "cell_type": "markdown",
   "metadata": {},
   "source": [
    "Data Preprocessing"
   ]
  },
  {
   "cell_type": "code",
   "execution_count": 4,
   "metadata": {},
   "outputs": [],
   "source": [
    "import numpy as np\n",
    "import matplotlib.pyplot as plt\n",
    "import pandas as pd\n"
   ]
  },
  {
   "cell_type": "code",
   "execution_count": 6,
   "metadata": {},
   "outputs": [
    {
     "name": "stdout",
     "output_type": "stream",
     "text": [
      "        id          neighborhood   latitude  longitude    price  size_in_sqft  \\\n",
      "0  5528049         Palm Jumeirah  25.113208  55.138932  2700000          1079   \n",
      "1  6008529         Palm Jumeirah  25.106809  55.151201  2850000          1582   \n",
      "2  6034542  Jumeirah Lake Towers  25.063302  55.137728  1150000          1951   \n",
      "3  6326063       Culture Village  25.227295  55.341761  2850000          2020   \n",
      "4  6356778         Palm Jumeirah  25.114275  55.139764  1729200           507   \n",
      "\n",
      "   price_per_sqft  no_of_bedrooms  no_of_bathrooms quality  ...  private_pool  \\\n",
      "0         2502.32               1                2  Medium  ...         False   \n",
      "1         1801.52               2                2  Medium  ...         False   \n",
      "2          589.44               3                5  Medium  ...         False   \n",
      "3         1410.89               2                3     Low  ...         False   \n",
      "4         3410.65               0                1  Medium  ...         False   \n",
      "\n",
      "   security  shared_gym  shared_pool  shared_spa  study  vastu_compliant  \\\n",
      "0     False        True        False       False  False            False   \n",
      "1     False        True         True       False  False            False   \n",
      "2      True        True         True       False  False            False   \n",
      "3     False       False        False       False  False            False   \n",
      "4      True        True         True        True  False            False   \n",
      "\n",
      "   view_of_landmark  view_of_water  walk_in_closet  \n",
      "0             False           True           False  \n",
      "1             False           True           False  \n",
      "2              True           True            True  \n",
      "3             False          False           False  \n",
      "4              True           True           False  \n",
      "\n",
      "[5 rows x 38 columns]\n"
     ]
    }
   ],
   "source": [
    "dataset = pd.read_csv('properties_data.csv')\n",
    "print(dataset.head())"
   ]
  },
  {
   "cell_type": "markdown",
   "metadata": {},
   "source": [
    "#Checking Null Values"
   ]
  },
  {
   "cell_type": "code",
   "execution_count": 8,
   "metadata": {},
   "outputs": [
    {
     "data": {
      "text/plain": [
       "id                     0\n",
       "neighborhood           0\n",
       "latitude               0\n",
       "longitude              0\n",
       "price                  0\n",
       "size_in_sqft           0\n",
       "price_per_sqft         0\n",
       "no_of_bedrooms         0\n",
       "no_of_bathrooms        0\n",
       "quality                0\n",
       "maid_room              0\n",
       "unfurnished            0\n",
       "balcony                0\n",
       "barbecue_area          0\n",
       "built_in_wardrobes     0\n",
       "central_ac             0\n",
       "childrens_play_area    0\n",
       "childrens_pool         0\n",
       "concierge              0\n",
       "covered_parking        0\n",
       "kitchen_appliances     0\n",
       "lobby_in_building      0\n",
       "maid_service           0\n",
       "networked              0\n",
       "pets_allowed           0\n",
       "private_garden         0\n",
       "private_gym            0\n",
       "private_jacuzzi        0\n",
       "private_pool           0\n",
       "security               0\n",
       "shared_gym             0\n",
       "shared_pool            0\n",
       "shared_spa             0\n",
       "study                  0\n",
       "vastu_compliant        0\n",
       "view_of_landmark       0\n",
       "view_of_water          0\n",
       "walk_in_closet         0\n",
       "dtype: int64"
      ]
     },
     "execution_count": 8,
     "metadata": {},
     "output_type": "execute_result"
    }
   ],
   "source": [
    "dataset.isna().sum()"
   ]
  },
  {
   "cell_type": "code",
   "execution_count": 10,
   "metadata": {},
   "outputs": [
    {
     "name": "stdout",
     "output_type": "stream",
     "text": [
      "id                       int64\n",
      "neighborhood            object\n",
      "latitude               float64\n",
      "longitude              float64\n",
      "price                    int64\n",
      "size_in_sqft             int64\n",
      "price_per_sqft         float64\n",
      "no_of_bedrooms           int64\n",
      "no_of_bathrooms          int64\n",
      "quality                 object\n",
      "maid_room                 bool\n",
      "unfurnished               bool\n",
      "balcony                   bool\n",
      "barbecue_area             bool\n",
      "built_in_wardrobes        bool\n",
      "central_ac                bool\n",
      "childrens_play_area       bool\n",
      "childrens_pool            bool\n",
      "concierge                 bool\n",
      "covered_parking           bool\n",
      "kitchen_appliances        bool\n",
      "lobby_in_building         bool\n",
      "maid_service              bool\n",
      "networked                 bool\n",
      "pets_allowed              bool\n",
      "private_garden            bool\n",
      "private_gym               bool\n",
      "private_jacuzzi           bool\n",
      "private_pool              bool\n",
      "security                  bool\n",
      "shared_gym                bool\n",
      "shared_pool               bool\n",
      "shared_spa                bool\n",
      "study                     bool\n",
      "vastu_compliant           bool\n",
      "view_of_landmark          bool\n",
      "view_of_water             bool\n",
      "walk_in_closet            bool\n",
      "dtype: object\n"
     ]
    }
   ],
   "source": [
    "result = dataset.dtypes\n",
    "print(result)"
   ]
  },
  {
   "cell_type": "code",
   "execution_count": 12,
   "metadata": {},
   "outputs": [
    {
     "name": "stdout",
     "output_type": "stream",
     "text": [
      "        id          neighborhood   latitude  longitude    price  size_in_sqft  \\\n",
      "0  5528049         Palm Jumeirah  25.113208  55.138932  2700000          1079   \n",
      "1  6008529         Palm Jumeirah  25.106809  55.151201  2850000          1582   \n",
      "2  6034542  Jumeirah Lake Towers  25.063302  55.137728  1150000          1951   \n",
      "3  6326063       Culture Village  25.227295  55.341761  2850000          2020   \n",
      "4  6356778         Palm Jumeirah  25.114275  55.139764  1729200           507   \n",
      "\n",
      "   price_per_sqft  no_of_bedrooms  no_of_bathrooms quality  ...  private_pool  \\\n",
      "0         2502.32               1                2  Medium  ...         False   \n",
      "1         1801.52               2                2  Medium  ...         False   \n",
      "2          589.44               3                5  Medium  ...         False   \n",
      "3         1410.89               2                3     Low  ...         False   \n",
      "4         3410.65               0                1  Medium  ...         False   \n",
      "\n",
      "   security  shared_gym  shared_pool  shared_spa  study  vastu_compliant  \\\n",
      "0     False        True        False       False  False            False   \n",
      "1     False        True         True       False  False            False   \n",
      "2      True        True         True       False  False            False   \n",
      "3     False       False        False       False  False            False   \n",
      "4      True        True         True        True  False            False   \n",
      "\n",
      "   view_of_landmark  view_of_water  walk_in_closet  \n",
      "0             False           True           False  \n",
      "1             False           True           False  \n",
      "2              True           True            True  \n",
      "3             False          False           False  \n",
      "4              True           True           False  \n",
      "\n",
      "[5 rows x 38 columns]\n"
     ]
    }
   ],
   "source": [
    "dataset = dataset.astype({'neighborhood': 'category', 'quality': 'category'})\n",
    "print(dataset.head())"
   ]
  },
  {
   "cell_type": "code",
   "execution_count": 13,
   "metadata": {},
   "outputs": [
    {
     "name": "stdout",
     "output_type": "stream",
     "text": [
      "id                        int64\n",
      "neighborhood           category\n",
      "latitude                float64\n",
      "longitude               float64\n",
      "price                     int64\n",
      "size_in_sqft              int64\n",
      "price_per_sqft          float64\n",
      "no_of_bedrooms            int64\n",
      "no_of_bathrooms           int64\n",
      "quality                category\n",
      "maid_room                  bool\n",
      "unfurnished                bool\n",
      "balcony                    bool\n",
      "barbecue_area              bool\n",
      "built_in_wardrobes         bool\n",
      "central_ac                 bool\n",
      "childrens_play_area        bool\n",
      "childrens_pool             bool\n",
      "concierge                  bool\n",
      "covered_parking            bool\n",
      "kitchen_appliances         bool\n",
      "lobby_in_building          bool\n",
      "maid_service               bool\n",
      "networked                  bool\n",
      "pets_allowed               bool\n",
      "private_garden             bool\n",
      "private_gym                bool\n",
      "private_jacuzzi            bool\n",
      "private_pool               bool\n",
      "security                   bool\n",
      "shared_gym                 bool\n",
      "shared_pool                bool\n",
      "shared_spa                 bool\n",
      "study                      bool\n",
      "vastu_compliant            bool\n",
      "view_of_landmark           bool\n",
      "view_of_water              bool\n",
      "walk_in_closet             bool\n",
      "dtype: object\n"
     ]
    }
   ],
   "source": [
    "result = dataset.dtypes\n",
    "print(result)"
   ]
  },
  {
   "cell_type": "code",
   "execution_count": 15,
   "metadata": {},
   "outputs": [
    {
     "name": "stdout",
     "output_type": "stream",
     "text": [
      "Index(['Al Barari', 'Al Barsha', 'Al Furjan', 'Al Kifaf', 'Al Quoz',\n",
      "       'Al Sufouh', 'Arjan', 'Barsha Heights (Tecom)', 'Bluewaters',\n",
      "       'Business Bay', 'City Walk', 'Culture Village', 'DAMAC Hills', 'DIFC',\n",
      "       'Discovery Gardens', 'Downtown Dubai',\n",
      "       'Dubai Creek Harbour (The Lagoons)', 'Dubai Festival City',\n",
      "       'Dubai Harbour', 'Dubai Healthcare City', 'Dubai Hills Estate',\n",
      "       'Dubai Land', 'Dubai Marina', 'Dubai Production City (IMPZ)',\n",
      "       'Dubai Residence Complex', 'Dubai Silicon Oasis',\n",
      "       'Dubai South (Dubai World Central)', 'Dubai Sports City',\n",
      "       'Falcon City of Wonders', 'Green Community', 'Greens',\n",
      "       'International City', 'Jebel Ali', 'Jumeirah',\n",
      "       'Jumeirah Beach Residence', 'Jumeirah Golf Estates',\n",
      "       'Jumeirah Lake Towers', 'Jumeirah Village Circle',\n",
      "       'Jumeirah Village Triangle', 'Meydan', 'Mina Rashid', 'Mirdif',\n",
      "       'Mohammed Bin Rashid City', 'Motor City', 'Mudon', 'Old Town',\n",
      "       'Palm Jumeirah', 'Remraam', 'The Hills', 'The Views', 'Town Square',\n",
      "       'Umm Suqeim', 'World Trade Center', 'wasl gate'],\n",
      "      dtype='object')\n"
     ]
    }
   ],
   "source": [
    "categories = dataset['neighborhood'].cat.categories\n",
    "print(categories)"
   ]
  },
  {
   "cell_type": "code",
   "execution_count": 16,
   "metadata": {},
   "outputs": [
    {
     "name": "stdout",
     "output_type": "stream",
     "text": [
      "Index(['High', 'Low', 'Medium', 'Ultra'], dtype='object')\n"
     ]
    }
   ],
   "source": [
    "categories = dataset['quality'].cat.categories\n",
    "print(categories)"
   ]
  },
  {
   "cell_type": "code",
   "execution_count": 17,
   "metadata": {},
   "outputs": [
    {
     "name": "stdout",
     "output_type": "stream",
     "text": [
      "                 id     latitude    longitude         price  size_in_sqft  \\\n",
      "count  1.905000e+03  1905.000000  1905.000000  1.905000e+03   1905.000000   \n",
      "mean   7.573308e+06    25.116538    55.212338  2.085830e+06   1417.050394   \n",
      "std    1.925252e+05     0.062647     0.068794  2.913200e+06    891.487639   \n",
      "min    5.528049e+06    24.865992    55.069311  2.200000e+05    294.000000   \n",
      "25%    7.560167e+06    25.072791    55.145389  8.900000e+05    840.000000   \n",
      "50%    7.631829e+06    25.096700    55.207506  1.400000e+06   1271.000000   \n",
      "75%    7.670328e+06    25.188130    55.271797  2.200000e+06   1703.000000   \n",
      "max    7.706643e+06    25.273623    55.441623  3.500000e+07   9576.000000   \n",
      "\n",
      "       price_per_sqft  no_of_bedrooms  no_of_bathrooms  \n",
      "count     1905.000000     1905.000000      1905.000000  \n",
      "mean      1327.243785        1.793176         2.512861  \n",
      "std        668.473559        0.949489         1.063117  \n",
      "min        361.870000        0.000000         1.000000  \n",
      "25%        870.920000        1.000000         2.000000  \n",
      "50%       1169.590000        2.000000         2.000000  \n",
      "75%       1622.500000        2.000000         3.000000  \n",
      "max       4805.870000        5.000000         6.000000  \n"
     ]
    }
   ],
   "source": [
    "print(dataset.describe())"
   ]
  }
 ],
 "metadata": {
  "kernelspec": {
   "display_name": "Python 3",
   "language": "python",
   "name": "python3"
  },
  "language_info": {
   "codemirror_mode": {
    "name": "ipython",
    "version": 3
   },
   "file_extension": ".py",
   "mimetype": "text/x-python",
   "name": "python",
   "nbconvert_exporter": "python",
   "pygments_lexer": "ipython3",
   "version": "3.11.5"
  },
  "orig_nbformat": 4
 },
 "nbformat": 4,
 "nbformat_minor": 2
}
